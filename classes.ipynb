{
 "cells": [
  {
   "cell_type": "code",
   "execution_count": 1,
   "metadata": {},
   "outputs": [],
   "source": [
    "import astropy.units as u\n",
    "from astropy.coordinates import SkyCoord\n",
    "import numpy as np"
   ]
  },
  {
   "cell_type": "code",
   "execution_count": null,
   "metadata": {
    "id": "sCd34EP3woOl"
   },
   "outputs": [],
   "source": [
    "class BrownDwarf(object):\n",
    "    def __init__(self, ra, dec, distance, temp=False, mass=False):\n",
    "        ''' \n",
    "        Brown Dwarf object\n",
    "        Attributes\n",
    "        ----------\n",
    "        ra          : float, degrees\n",
    "        dec         : float, degrees\n",
    "        distance    : float, in kpc\n",
    "        temp        : float (optional), in K\n",
    "        mass        : float (optional), in MJ\n",
    "        '''\n",
    "        self.ra=ra\n",
    "        self.dec=dec\n",
    "        self.dist=distance\n",
    "        self.pos=SkyCoord(ra=self.ra*u.degree,dec=self.dec*u.degree, distance=self.dist*u.kpc)\n",
    "\n",
    "        if temp:\n",
    "            self.temp=temp\n",
    "        if mass:\n",
    "            self.mass=mass\n",
    "\n",
    "    def cart_bd_pos(self):\n",
    "        '''Calculate cartesian position of BD using skycoord'''\n",
    "        self.x = self.pos.cartesian.x\n",
    "        self.y = self.pos.cartesian.y\n",
    "        self.z = self.pos.cartesian.z\n",
    "\n",
    "    def get_xyz(self):\n",
    "        gal=self.pos.transform_to('galactic')\n",
    "\n",
    "        z = self.dist*u.kpc * np.sin(np.deg2rad(90*u.deg-gal.b) )\n",
    "        x = self.dist*u.kpc * np.cos(np.deg2rad(90*u.deg-gal.b)) * np.cos(np.deg2rad(gal.l -90*u.deg))\n",
    "        y = self.dist*u.kpc * np.cos(np.deg2rad(90*u.deg-gal.b)) * np.sin(np.deg2rad(gal.l -90*u.deg))\n",
    "        self.x = x\n",
    "        self.y = y\n",
    "        self.z = z\n",
    "\n",
    "    def init_plot(self, **kwargs):\n",
    "        '''Create initial 3d plot'''\n",
    "        ax.view_init(elev = 10, azim=0)\n",
    "        ax.set_xlabel('X [pc]')\n",
    "        ax.set_ylabel('Y [pc]')\n",
    "        ax.set_zlabel('Z [pc]')\n",
    "\n",
    "        scatter1 = ax.scatter(0,0,0, color=\"yellow\", label=\"Sun\")\n",
    "\n",
    "        ax.set_xlim(-1,1)\n",
    "        ax.set_ylim(-1,1)\n",
    "        ax.set_zlim(-1,1)\n",
    "        ax.legend()\n",
    "\n",
    "        return scatter1\n",
    "    \n",
    "    def animate(i, **kwargs):\n",
    "       # get_xyz() might have to call this to get xyzs?\n",
    "        x,y,z = self.x, self.y, self.z\n",
    "        ax.scatter(x,y,z)\n",
    "\n",
    "        # ax.set_xlim(lims[i][0],lims[i][1])\n",
    "        # ax.set_ylim(lims[i][0],lims[i][1])\n",
    "        # ax.set_zlim(lims[i][0],lims[i][1])\n",
    "        ax.legend()\n",
    "\n"
   ]
  },
  {
   "cell_type": "code",
   "execution_count": 26,
   "metadata": {},
   "outputs": [],
   "source": [
    "bd=BrownDwarf(10,10,10)"
   ]
  },
  {
   "cell_type": "code",
   "execution_count": 27,
   "metadata": {},
   "outputs": [
    {
     "name": "stdout",
     "output_type": "stream",
     "text": [
      "9.69846310392954 kpc 1.7101007166283433 kpc 1.7364817766693033 kpc\n"
     ]
    }
   ],
   "source": [
    "bd.print_bd_pos()"
   ]
  },
  {
   "cell_type": "code",
   "execution_count": 28,
   "metadata": {},
   "outputs": [
    {
     "name": "stdout",
     "output_type": "stream",
     "text": [
      "-7.012001204973697 kpc -3.7715383644172156 kpc 6.050399777467313 kpc\n"
     ]
    }
   ],
   "source": [
    "bd.get_xyz()"
   ]
  },
  {
   "cell_type": "code",
   "execution_count": null,
   "metadata": {},
   "outputs": [],
   "source": []
  }
 ],
 "metadata": {
  "colab": {
   "authorship_tag": "ABX9TyPTn2G28gW/SQXONIccwSeT",
   "provenance": []
  },
  "kernelspec": {
   "display_name": "codeastro",
   "language": "python",
   "name": "python3"
  },
  "language_info": {
   "codemirror_mode": {
    "name": "ipython",
    "version": 3
   },
   "file_extension": ".py",
   "mimetype": "text/x-python",
   "name": "python",
   "nbconvert_exporter": "python",
   "pygments_lexer": "ipython3",
   "version": "3.10.18"
  }
 },
 "nbformat": 4,
 "nbformat_minor": 0
}
