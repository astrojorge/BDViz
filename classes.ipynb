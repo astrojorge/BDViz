{
 "cells": [
  {
   "cell_type": "code",
   "execution_count": null,
   "metadata": {},
   "outputs": [],
   "source": [
    "%matplotlib widget\n",
    "\n",
    "import matplotlib.pyplot as plt\n",
    "from mpl_toolkits.mplot3d import Axes3D\n",
    "from astropy.coordinates import SkyCoord\n",
    "import astropy.units as u\n",
    "from astroquery.gaia import Gaia"
   ]
  },
  {
   "cell_type": "code",
   "execution_count": null,
   "metadata": {
    "id": "sCd34EP3woOl"
   },
   "outputs": [],
   "source": [
    "# class one, brown dwarf object\n",
    "class BrownDwarf:\n",
    "    def __init__(self, name, ra, dec, distance, color='red'):\n",
    "        self.name = name\n",
    "        self.ra = ra * u.deg\n",
    "        self.dec = dec * u.deg\n",
    "        self.distance = distance * u.pc\n",
    "        self.color = color\n",
    "        \n",
    "        self.pos=SkyCoord(ra=self.ra,dec=self.dec, distance=self.distance,  frame='icrs')\n",
    "\n",
    "\n",
    "    def get_xyz(self):\n",
    "        # set set the x,y z attributes of the object\n",
    "        gal=self.pos.transform_to('galactic')\n",
    "        self.x = gal.cartesian.x.to(u.pc).value\n",
    "        self.y = gal.cartesian.y.to(u.pc).value\n",
    "        self.z = gal.cartesian.z.to(u.pc).value\n",
    "\n",
    "# class 2, plot 3d\n",
    "class Plot3D:\n",
    "    def __init__(self): # initlize the plot\n",
    "        self.objects = [] # list of objects to keep track of on the plot\n",
    "        self.fig = plt.figure(figsize=(8, 6))\n",
    "        self.ax = self.fig.add_subplot(111, projection='3d')\n",
    "        self._setup_plot() # set up method for putting the sun, labels, and initilize viewing angle\n",
    "\n",
    "    def _setup_plot(self):\n",
    "        self.ax.set_title(\"3D Galactic Plot (Sun at 0,0,0)\")\n",
    "        self.ax.set_xlabel(\"X (pc)\")\n",
    "        self.ax.set_ylabel(\"Y (pc)\")\n",
    "        self.ax.set_zlabel(\"Z (pc)\")\n",
    "        self.ax.set_xlim(-10,10)\n",
    "        self.ax.set_ylim(-10,10)\n",
    "        self.ax.set_zlim(-10,10)\n",
    "        self.ax.scatter(0, 0, 0, color='orange', label='Sun')\n",
    "        self.ax.legend()\n",
    "        self.ax.view_init(elev=0, azim=125)\n",
    "\n",
    "    def plot_stars(self, catalog = 'Gaia'): # method for if we want to query simbad or gaia and plot stars on there\n",
    "        if catalog == 'Gaia':\n",
    "            query = \"\"\"\n",
    "                        SELECT TOP 1000 source_id, ra, dec, l, b, phot_g_mean_mag\n",
    "                        FROM gaiadr3.gaia_source\n",
    "                        WHERE phot_g_mean_mag < 12\n",
    "                        \"\"\"\n",
    "            job = Gaia.launch_job_async(query)\n",
    "            results = job.get_results()\n",
    "            l = results['l']\n",
    "            b = results['b']\n",
    "            stars = SkyCoord(l=l, b=b, frame='galactic')\n",
    "            self.ax.scatter(stars.cartesian.x, stars.cartesian.y, stars.cartesian.z, \n",
    "                            color = 'black', alpha = 0.005, marker = ',')\n",
    "        \n",
    "    def add_object(self, obj, show_label=True):\n",
    "        self.objects.append(obj) \n",
    "        obj.get_xyz() # get the x,y and z of object\n",
    "        self.ax.scatter(obj.x, obj.y, obj.z, color=obj.color, label=obj.name)\n",
    "        if show_label:\n",
    "            self.ax.text(obj.x, obj.y, obj.z, f\" {obj.name}\", color=obj.color)\n",
    "        self.ax.legend()\n",
    "        self.fig.canvas.draw()\n",
    "        print(f\"Added: {obj.name} at (x={obj.x:.1f}, y={obj.y:.1f}, z={obj.z:.1f}) pc\")\n"
   ]
  },
  {
   "cell_type": "code",
   "execution_count": null,
   "metadata": {},
   "outputs": [],
   "source": [
    "# set up scene\n",
    "set_up_plot = Plot3D()"
   ]
  },
  {
   "cell_type": "code",
   "execution_count": null,
   "metadata": {},
   "outputs": [
    {
     "name": "stdout",
     "output_type": "stream",
     "text": [
      "l is 284.86592131741827 deg\n",
      "b is 5.486783631906607 deg\n",
      "distance is2\n"
     ]
    }
   ],
   "source": [
    "# plot stars\n",
    "set_up_plot.plot_stars()"
   ]
  },
  {
   "cell_type": "code",
   "execution_count": null,
   "metadata": {},
   "outputs": [],
   "source": [
    "#plot one object\n",
    "bd1 = BrownDwarf(\"BD-1\", ra=150, dec=20, distance=5, color='purple')\n",
    "set_up_plot.add_object(bd1)"
   ]
  },
  {
   "cell_type": "code",
   "execution_count": null,
   "metadata": {},
   "outputs": [],
   "source": []
  },
  {
   "cell_type": "code",
   "execution_count": null,
   "metadata": {},
   "outputs": [],
   "source": []
  },
  {
   "cell_type": "code",
   "execution_count": null,
   "metadata": {},
   "outputs": [],
   "source": []
  }
 ],
 "metadata": {
  "colab": {
   "authorship_tag": "ABX9TyPTn2G28gW/SQXONIccwSeT",
   "provenance": []
  },
  "kernelspec": {
   "display_name": "codeastro",
   "language": "python",
   "name": "python3"
  },
  "language_info": {
   "codemirror_mode": {
    "name": "ipython",
    "version": 3
   },
   "file_extension": ".py",
   "mimetype": "text/x-python",
   "name": "python",
   "nbconvert_exporter": "python",
   "pygments_lexer": "ipython3",
   "version": "3.10.18"
  }
 },
 "nbformat": 4,
 "nbformat_minor": 0
}
