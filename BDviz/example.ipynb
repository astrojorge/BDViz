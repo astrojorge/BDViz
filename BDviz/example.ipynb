{
 "cells": [
  {
   "cell_type": "code",
   "execution_count": null,
   "metadata": {},
   "outputs": [],
   "source": [
    "#important, make sure the widget is on to get interactive plots in Jupyter\n",
    "%matplotlib widget\n",
    "#import classes from the plotbd script\n",
    "from plotbd import BrownDwarf, Plot3D\n"
   ]
  },
  {
   "cell_type": "code",
   "execution_count": 3,
   "metadata": {
    "id": "sCd34EP3woOl"
   },
   "outputs": [
    {
     "ename": "NameError",
     "evalue": "name 'Plot3D' is not defined",
     "output_type": "error",
     "traceback": [
      "\u001b[0;31m---------------------------------------------------------------------------\u001b[0m",
      "\u001b[0;31mNameError\u001b[0m                                 Traceback (most recent call last)",
      "Cell \u001b[0;32mIn[3], line 3\u001b[0m\n\u001b[1;32m      1\u001b[0m \u001b[38;5;66;03m# load in a 3D scene \u001b[39;00m\n\u001b[0;32m----> 3\u001b[0m new_scene \u001b[38;5;241m=\u001b[39m \u001b[43mPlot3D\u001b[49m()\n",
      "\u001b[0;31mNameError\u001b[0m: name 'Plot3D' is not defined"
     ]
    }
   ],
   "source": [
    "# load in a 3D scene \n",
    "\n",
    "new_scene = Plot3D()"
   ]
  },
  {
   "cell_type": "code",
   "execution_count": null,
   "metadata": {},
   "outputs": [],
   "source": [
    "# add your firts brown dwarf to the exisiting scene\n",
    "# add its ra, dec, (in degrees), distance in parsec and color you want it to be ploted\n",
    "bd1 = BrownDwarf(\"BD-1\", ra=150, dec=20, distance=5, color='purple')\n",
    "new_scene.add_object(bd1)"
   ]
  },
  {
   "cell_type": "code",
   "execution_count": null,
   "metadata": {},
   "outputs": [],
   "source": []
  },
  {
   "cell_type": "code",
   "execution_count": null,
   "metadata": {},
   "outputs": [],
   "source": []
  },
  {
   "cell_type": "code",
   "execution_count": null,
   "metadata": {},
   "outputs": [],
   "source": []
  }
 ],
 "metadata": {
  "colab": {
   "authorship_tag": "ABX9TyPTn2G28gW/SQXONIccwSeT",
   "provenance": []
  },
  "kernelspec": {
   "display_name": "codeastro",
   "language": "python",
   "name": "python3"
  },
  "language_info": {
   "codemirror_mode": {
    "name": "ipython",
    "version": 3
   },
   "file_extension": ".py",
   "mimetype": "text/x-python",
   "name": "python",
   "nbconvert_exporter": "python",
   "pygments_lexer": "ipython3",
   "version": "3.10.18"
  }
 },
 "nbformat": 4,
 "nbformat_minor": 0
}
