{
 "cells": [
  {
   "cell_type": "code",
   "execution_count": null,
   "metadata": {},
   "outputs": [],
   "source": [
    "#important, make sure the widget is on to get interactive plots in Jupyter\n",
    "#import classes from the plotbd script\n",
    "%matplotlib widget\n",
    "from plotbd import BrownDwarf, Plot3D\n",
    "from helper_functions import get_angular_separation, get_physical_separation\n"
   ]
  },
  {
   "cell_type": "code",
   "execution_count": null,
   "metadata": {
    "id": "sCd34EP3woOl"
   },
   "outputs": [],
   "source": [
    "# load in a 3D scene \n",
    "new_scene = Plot3D()"
   ]
  },
  {

   "cell_type": "markdown",
   "metadata": {},
   "source": [
    "Add your first brown dwarf to the exsisting scene!\n",
    "\n",
    "A Brown Dwarf object is initalized with a name, and Ra, Dec (in deg), and a distance in parsecs"
   ]
  },
  {
   "cell_type": "code",
   "execution_count": null,
   "metadata": {},
   "outputs": [],
   "source": [

    "# add your first brown dwarf to the exsisting scene\n",
    "# add its ra, dec, (in degrees), distance in parsec and color you want it to be ploted\n",
    "bd1 = BrownDwarf(\"BD-1\", ra=150, dec=20, distance=5, color='purple')\n",
    "new_scene.add_object(bd1)"
   ]
  },
  {
   "cell_type": "markdown",
   "metadata": {},
   "source": [
    "Add a second brown dwarf!"
   ]
  },
  {
   "cell_type": "code",
   "execution_count": null,
   "metadata": {},
   "outputs": [],
   "source": [

    "bd2 = BrownDwarf(\"BD-2\", ra=310, dec=-53, distance=17, color='red')\n",
    "new_scene.add_object(bd2)"
   ]
  },
  {
   "cell_type": "markdown",
   "metadata": {},
   "source": [
    "Want to plot other kinds of objects? Make a query to different catalogs using the *plot_stars* method of the Plot 3D object"

    "new_scene.plot_stars()"
   ]
  },
  {
   "cell_type": "code",
   "execution_count": null,
   "metadata": {},
   "outputs": [],
   "source": [
    "new_scene.plot_stars()"
   ]
  },
  {
   "cell_type": "markdown",
   "metadata": {},
   "source": [
    "The function *get_angular_separation* calculates the on sky separation between two objects in the scene"
   ]
  },
  {
   "cell_type": "code",
   "execution_count": null,
   "metadata": {},
   "outputs": [],
   "source": [
    "sep = get_angular_separation(bd1,bd2)\n",
    "print(sep)"
   ]
  },
  {
   "cell_type": "markdown",
   "metadata": {},
   "source": [
    "The function *get_physical_separation* calculates the 3d distance between two objects in the scene"
   ]
  },
  {
   "cell_type": "code",
   "execution_count": null,
   "metadata": {},
   "outputs": [],
   "source": [
    "physical = get_physical_separation(bd1,bd2)\n",
    "print(physical)"
   ]
  },
  {
   "cell_type": "markdown",
   "metadata": {},
   "source": [
    "Tired of your Brown Dwarf?\n",
    "\n",
    " *remove_object* removes the Brown Dwarf from the scene by passing the name of the object"
   ]
  },
  {
   "cell_type": "code",
   "execution_count": null,
   "metadata": {},
   "outputs": [],
   "source": [
    "new_scene.remove_object(\"BD-1\")"
   ]
  }
 ],
 "metadata": {
  "colab": {
   "authorship_tag": "ABX9TyPTn2G28gW/SQXONIccwSeT",
   "provenance": []
  },
  "kernelspec": {
   "display_name": "codeastro",
   "language": "python",
   "name": "python3"
  },
  "language_info": {
   "codemirror_mode": {
    "name": "ipython",
    "version": 3
   },
   "file_extension": ".py",
   "mimetype": "text/x-python",
   "name": "python",
   "nbconvert_exporter": "python",
   "pygments_lexer": "ipython3",
   "version": "3.10.18"
  }
 },
 "nbformat": 4,
 "nbformat_minor": 0
}
